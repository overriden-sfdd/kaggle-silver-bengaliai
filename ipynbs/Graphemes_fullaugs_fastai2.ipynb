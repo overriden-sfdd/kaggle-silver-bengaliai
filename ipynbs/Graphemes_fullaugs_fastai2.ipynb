{
 "cells": [
  {
   "cell_type": "markdown",
   "metadata": {
    "colab_type": "text",
    "id": "_DuoK_03oJ9k"
   },
   "source": [
    "# Imports, hyperparams"
   ]
  },
  {
   "cell_type": "code",
   "execution_count": 0,
   "metadata": {
    "colab": {},
    "colab_type": "code",
    "id": "bD1ZVTPQZzT_"
   },
   "outputs": [],
   "source": [
    "from fastai2.basics           import *\n",
    "from fastai2.vision.all       import *\n",
    "from fastai2.callback.tracker import *\n",
    "from fastai2.callback.all     import *\n",
    "import os\n",
    "from sklearn.model_selection import KFold\n",
    "from sklearn.metrics import recall_score\n",
    "import warnings\n",
    "warnings.filterwarnings(\"ignore\")"
   ]
  },
  {
   "cell_type": "code",
   "execution_count": 0,
   "metadata": {
    "colab": {},
    "colab_type": "code",
    "id": "A27zvmZoZzQ-"
   },
   "outputs": [],
   "source": [
    "sz = 128\n",
    "bs = 128\n",
    "nfolds = 5 \n",
    "fold = 0  # change this parameter manually\n",
    "SEED = 1337\n",
    "cnt = Path('../input')\n",
    "md = cnt/'bengaliai-cv19'\n",
    "DRIVE = cnt/'bengali_weights/xresent50/'\n",
    "LABELS = cnt/'folded_data/train_with_fold.csv'\n",
    "TRAIN = cnt/'train_images'\n",
    "arch = xresnet50\n",
    "arch_name = 'xresnet50'\n",
    "\n",
    "def seed_everything(seed):\n",
    "    random.seed(seed)\n",
    "    os.environ['PYTHONHASHSEED'] = str(seed)\n",
    "    np.random.seed(seed)\n",
    "    torch.manual_seed(seed)\n",
    "    torch.cuda.manual_seed(seed)\n",
    "    torch.backends.cudnn.deterministic = True\n",
    "    torch.backends.cudnn.benchmark = True\n",
    "\n",
    "seed_everything(SEED)"
   ]
  },
  {
   "cell_type": "code",
   "execution_count": 12,
   "metadata": {
    "colab": {
     "base_uri": "https://localhost:8080/",
     "height": 34
    },
    "colab_type": "code",
    "executionInfo": {
     "elapsed": 375612,
     "status": "ok",
     "timestamp": 1585854839031,
     "user": {
      "displayName": "Russell Ershov",
      "photoUrl": "https://lh3.googleusercontent.com/a-/AOh14GizgYgSugYoFH3VKGt9lH8L9J1fk40_5RUiNb2SIA=s64",
      "userId": "14595990508036916203"
     },
     "user_tz": -180
    },
    "id": "Dbp82tgJZzNp",
    "outputId": "6feb33d1-1959-4c6d-da55-9caf23ec868a"
   },
   "outputs": [
    {
     "name": "stdout",
     "output_type": "stream",
     "text": [
      "[168, 11, 7, 1295, 200840]\n"
     ]
    }
   ],
   "source": [
    "df = pd.read_csv(LABELS)\n",
    "nunique = list(df.nunique())[1:-1]\n",
    "print(nunique)"
   ]
  },
  {
   "cell_type": "markdown",
   "metadata": {
    "colab_type": "text",
    "id": "vyMstyApoSY_"
   },
   "source": [
    "# Preprocessing"
   ]
  },
  {
   "cell_type": "code",
   "execution_count": 0,
   "metadata": {
    "colab": {},
    "colab_type": "code",
    "id": "S2MdLAwrn8sG"
   },
   "outputs": [],
   "source": [
    "class GridMask(RandTransform):\n",
    "    order = 101\n",
    "    def __init__(self, p=0.5, num_grid=3, fill_value=0, rotate=0, mode=0):\n",
    "        super().__init__(p=p)\n",
    "        if isinstance(num_grid, int): num_grid = (num_grid, num_grid)\n",
    "        if isinstance(rotate, int): rotate = (-rotate, rotate)\n",
    "        self.num_grid = num_grid\n",
    "        self.fill_value = fill_value\n",
    "        self.rotate = rotate\n",
    "        self.mode = mode\n",
    "        self.masks = None\n",
    "        self.rand_h_max = []\n",
    "        self.rand_w_max = []\n",
    "\n",
    "    def init_masks(self, height, width):\n",
    "        if self.masks is None:\n",
    "            self.masks = []\n",
    "            n_masks = self.num_grid[1] - self.num_grid[0] + 1\n",
    "            for n, n_g in enumerate(range(self.num_grid[0], self.num_grid[1] + 1, 1)):\n",
    "                grid_h = height / n_g\n",
    "                grid_w = width / n_g\n",
    "                this_mask = torch.ones((int((n_g + 1) * grid_h), int((n_g + 1) * grid_w)), dtype=torch.uint8)\n",
    "                for i in range(n_g + 1):\n",
    "                    for j in range(n_g + 1):\n",
    "                        this_mask[\n",
    "                             int(i * grid_h) : int(i * grid_h + grid_h / 2),\n",
    "                             int(j * grid_w) : int(j * grid_w + grid_w / 2)\n",
    "                        ] = self.fill_value\n",
    "                        if self.mode == 2:\n",
    "                            this_mask[\n",
    "                                 int(i * grid_h + grid_h / 2) : int(i * grid_h + grid_h),\n",
    "                                 int(j * grid_w + grid_w / 2) : int(j * grid_w + grid_w)\n",
    "                            ] = self.fill_value\n",
    "                \n",
    "                if self.mode == 1:\n",
    "                    this_mask = 1 - this_mask\n",
    "\n",
    "                self.masks.append(this_mask)\n",
    "                self.rand_h_max.append(grid_h)\n",
    "                self.rand_w_max.append(grid_w)\n",
    "\n",
    "    def get_params(self, img):\n",
    "        height, width = img.shape[-2:]\n",
    "        self.init_masks(height, width)\n",
    "\n",
    "        mid = np.random.randint(len(self.masks))\n",
    "        mask = self.masks[mid]\n",
    "        rand_h = np.random.randint(self.rand_h_max[mid])\n",
    "        rand_w = np.random.randint(self.rand_w_max[mid])\n",
    "        angle = np.random.randint(self.rotate[0], self.rotate[1]) if self.rotate[1] > 0 else 0\n",
    "\n",
    "        return mask, rand_h, rand_w, angle\n",
    "    \n",
    "    def encodes(self, image:TensorImage, **params):\n",
    "        mask, rand_h, rand_w, angle = self.get_params(image)\n",
    "        h, w = image.shape[-2:]\n",
    "        mask = afunc.rotate(mask, angle) if self.rotate[1] > 0 else mask\n",
    "        mask = mask[:,:,np.newaxis] if image.ndim == 3 else mask\n",
    "        mask = tensor(mask.float()).to(default_device())\n",
    "        image *= mask[rand_h:rand_h+h, rand_w:rand_w+w]\n",
    "        return image"
   ]
  },
  {
   "cell_type": "code",
   "execution_count": 0,
   "metadata": {
    "colab": {},
    "colab_type": "code",
    "id": "0XmIVjtCgXv_"
   },
   "outputs": [],
   "source": [
    "get_image = lambda x: TRAIN/f'{x[0]}.png'\n",
    "def get_labels(x): return tensor(x[1:4].astype('uint8'))"
   ]
  },
  {
   "cell_type": "code",
   "execution_count": 0,
   "metadata": {
    "colab": {},
    "colab_type": "code",
    "id": "gDlvCNcrgXth"
   },
   "outputs": [],
   "source": [
    "gv = L(o for o in df['grapheme_root'].unique() if o==o).sorted()\n",
    "vv = L(o for o in df['vowel_diacritic'].unique() if o==o).sorted()\n",
    "cv = L(o for o in df['consonant_diacritic'].unique() if o==o).sorted()"
   ]
  },
  {
   "cell_type": "code",
   "execution_count": 16,
   "metadata": {
    "colab": {
     "base_uri": "https://localhost:8080/",
     "height": 0
    },
    "colab_type": "code",
    "executionInfo": {
     "elapsed": 375606,
     "status": "ok",
     "timestamp": 1585854839033,
     "user": {
      "displayName": "Russell Ershov",
      "photoUrl": "https://lh3.googleusercontent.com/a-/AOh14GizgYgSugYoFH3VKGt9lH8L9J1fk40_5RUiNb2SIA=s64",
      "userId": "14595990508036916203"
     },
     "user_tz": -180
    },
    "id": "gHz7UifwgXq0",
    "outputId": "17d92e31-6738-40d0-dcaa-64df75c20332"
   },
   "outputs": [
    {
     "data": {
      "text/plain": [
       "(#3) [(#168) [0,1,2,3,4,5,6,7,8,9...],(#11) [0,1,2,3,4,5,6,7,8,9...],(#7) [0,1,2,3,4,5,6]]"
      ]
     },
     "execution_count": 16,
     "metadata": {
      "tags": []
     },
     "output_type": "execute_result"
    }
   ],
   "source": [
    "cs = L(len(gv),len(vv),len(cv))\n",
    "vocab = L(gv,vv,cv); vocab"
   ]
  },
  {
   "cell_type": "code",
   "execution_count": 0,
   "metadata": {
    "colab": {},
    "colab_type": "code",
    "id": "fexqyGDLgXle"
   },
   "outputs": [],
   "source": [
    "class MEMCategorize(Transform):\n",
    "    loss_func,order=CrossEntropyLossFlat(),1\n",
    "    def __init__(self, vocab): self.vocab,self.c = vocab,L(len(cls) for cls in vocab)\n",
    "    def encodes(self, o): return TensorCategory(tensor(o).float())\n",
    "    def decodes(self, o): return MultiCategory (tensor(o))"
   ]
  },
  {
   "cell_type": "code",
   "execution_count": 0,
   "metadata": {
    "colab": {},
    "colab_type": "code",
    "id": "jdHNx5tXg_1k"
   },
   "outputs": [],
   "source": [
    "split_idx = IndexSplitter(df.loc[df.fold==fold].index)(df)"
   ]
  },
  {
   "cell_type": "code",
   "execution_count": 0,
   "metadata": {
    "colab": {},
    "colab_type": "code",
    "id": "8p0MyyGhg_yP"
   },
   "outputs": [],
   "source": [
    "type_tfms = [[get_image, PILImageBW.create, ToTensor], [get_labels, MEMCategorize(vocab=vocab)]]\n",
    "item_tfms = [ToTensor]\n",
    "batch_tfms = [IntToFloatTensor, Brightness(max_lighting=0.3, p=0.5), Contrast(), \n",
    "             GridMask(p=0., num_grid=(3,7)), RandomErasing(p=0., sh=0.15),\n",
    "             Warp(magnitude=0.1), AffineCoordTfm(size=sz)]"
   ]
  },
  {
   "cell_type": "code",
   "execution_count": 0,
   "metadata": {
    "colab": {},
    "colab_type": "code",
    "id": "q9isrf7Yg_vV"
   },
   "outputs": [],
   "source": [
    "dsrc = Datasets(df.values, type_tfms, splits=split_idx)\n",
    "tdl = TfmdDL(dsrc, bs=bs, after_item=item_tfms, after_batch=batch_tfms, device=default_device())"
   ]
  },
  {
   "cell_type": "code",
   "execution_count": 21,
   "metadata": {
    "colab": {
     "base_uri": "https://localhost:8080/",
     "height": 50
    },
    "colab_type": "code",
    "executionInfo": {
     "elapsed": 386005,
     "status": "ok",
     "timestamp": 1585854849442,
     "user": {
      "displayName": "Russell Ershov",
      "photoUrl": "https://lh3.googleusercontent.com/a-/AOh14GizgYgSugYoFH3VKGt9lH8L9J1fk40_5RUiNb2SIA=s64",
      "userId": "14595990508036916203"
     },
     "user_tz": -180
    },
    "id": "sI3RIDVupWYw",
    "outputId": "2bc12ed3-9cda-4262-9771-a55736677c7e"
   },
   "outputs": [
    {
     "data": {
      "text/plain": [
       "(TensorImageBW(0.0716, device='cuda:0'),\n",
       " TensorImageBW(0.2045, device='cuda:0'))"
      ]
     },
     "execution_count": 21,
     "metadata": {
      "tags": []
     },
     "output_type": "execute_result"
    }
   ],
   "source": [
    "xb,_ = tdl.one_batch()\n",
    "mega_batch_stats = xb.mean(), xb.std()\n",
    "mega_batch_stats"
   ]
  },
  {
   "cell_type": "code",
   "execution_count": 0,
   "metadata": {
    "colab": {},
    "colab_type": "code",
    "id": "mcwcoVnNpa_g"
   },
   "outputs": [],
   "source": [
    "batch_tfms += [Normalize.from_stats(*mega_batch_stats)]"
   ]
  },
  {
   "cell_type": "code",
   "execution_count": 0,
   "metadata": {
    "colab": {},
    "colab_type": "code",
    "id": "W2IUbGg4t5dR"
   },
   "outputs": [],
   "source": [
    "tdl_train = TfmdDL(dsrc.train, bs=bs, after_item=item_tfms, after_batch=batch_tfms, device=default_device())\n",
    "tdl_valid = TfmdDL(dsrc.valid, bs=bs, after_item=item_tfms, after_batch=batch_tfms, device=default_device())"
   ]
  },
  {
   "cell_type": "code",
   "execution_count": 0,
   "metadata": {
    "colab": {},
    "colab_type": "code",
    "id": "tyBVsXFZpa6Y"
   },
   "outputs": [],
   "source": [
    "dbch = DataLoaders(tdl_train, tdl_valid, device=default_device())"
   ]
  },
  {
   "cell_type": "code",
   "execution_count": 0,
   "metadata": {
    "colab": {},
    "colab_type": "code",
    "id": "F1ClUMTmpBbB"
   },
   "outputs": [],
   "source": [
    "# dbch.show_batch(max_n=3)"
   ]
  },
  {
   "cell_type": "markdown",
   "metadata": {
    "colab_type": "text",
    "id": "TDyRIewtoYPh"
   },
   "source": [
    "# Constructing model"
   ]
  },
  {
   "cell_type": "code",
   "execution_count": 0,
   "metadata": {
    "colab": {},
    "colab_type": "code",
    "id": "vgvuBeFDkXYX"
   },
   "outputs": [],
   "source": [
    "class MishFunction(torch.autograd.Function):\n",
    "    @staticmethod\n",
    "    def forward(ctx, x):\n",
    "        ctx.save_for_backward(x)\n",
    "        return x * torch.tanh(F.softplus(x))   # x * tanh(ln(1 + exp(x)))\n",
    "\n",
    "    @staticmethod\n",
    "    def backward(ctx, grad_output):\n",
    "        x = ctx.saved_variables[0]\n",
    "        sigmoid = torch.sigmoid(x)\n",
    "        tanh_sp = torch.tanh(F.softplus(x)) \n",
    "        return grad_output * (tanh_sp + x * sigmoid * (1 - tanh_sp * tanh_sp))\n",
    "\n",
    "class Mish(Module):\n",
    "    def forward(self, x):\n",
    "        return MishFunction.apply(x)\n",
    "\n",
    "def to_Mish(model):\n",
    "    for child_name, child in model.named_children():\n",
    "        if isinstance(child, nn.ReLU):\n",
    "            setattr(model, child_name, Mish())\n",
    "        else:\n",
    "            to_Mish(child)"
   ]
  },
  {
   "cell_type": "code",
   "execution_count": 0,
   "metadata": {
    "colab": {},
    "colab_type": "code",
    "id": "xP2o8zGlZzCN"
   },
   "outputs": [],
   "source": [
    "class Head(Module):\n",
    "    def __init__(self, nc, n, ps=0.5):\n",
    "        self.fc = nn.Sequential(*[AdaptiveConcatPool2d(), Mish(), Flatten(),\n",
    "             LinBnDrop(nc*2, 512, True, ps, Mish()),\n",
    "             LinBnDrop(512, n, True, ps)])\n",
    "        self._init_weight()\n",
    "        \n",
    "    def _init_weight(self):\n",
    "        for m in self.modules():\n",
    "            if isinstance(m, nn.Conv2d):\n",
    "                torch.nn.init.kaiming_normal_(m.weight)\n",
    "            elif isinstance(m, nn.BatchNorm2d):\n",
    "                m.weight.data.fill_(1.0)\n",
    "                m.bias.data.zero_()\n",
    "        \n",
    "    def forward(self, x):\n",
    "        return self.fc(x)\n",
    "\n",
    "class CascadeModel(Module):\n",
    "    def __init__(self, arch=arch, n=dbch.c, pre=True):\n",
    "        m = arch(pre)\n",
    "        m = nn.Sequential(*children_and_parameters(m)[:-4])\n",
    "        conv = nn.Conv2d(3, 32, kernel_size=3, stride=2, padding=1, bias=False)\n",
    "        w = (m[0][0].weight.sum(1)).unsqueeze(1)\n",
    "        conv.weight = nn.Parameter(w)\n",
    "        m[0][0] = conv\n",
    "        nc = m(torch.zeros(2, 1, sz, sz)).detach().shape[1]\n",
    "        self.body = m\n",
    "        self.heads = nn.ModuleList([Head(nc, c) for c in n])\n",
    "        \n",
    "    def forward(self, x):    \n",
    "        x = self.body(x)\n",
    "        return [f(x) for f in self.heads]"
   ]
  },
  {
   "cell_type": "code",
   "execution_count": 0,
   "metadata": {
    "colab": {},
    "colab_type": "code",
    "id": "CP89IBwajAb5"
   },
   "outputs": [],
   "source": [
    "class CascadeDnet(Module):\n",
    "    def __init__(self, arch=arch, n=dbch.c, pre=True):\n",
    "        m = arch(pre)\n",
    "        conv = nn.Conv2d(1, 64, kernel_size=7, stride=2, padding=3, bias=False)\n",
    "\n",
    "        w = (m.features.conv0.weight.sum(1)).unsqueeze(1)\n",
    "        conv.weight = nn.Parameter(w)\n",
    "\n",
    "        self.layer0 = nn.Sequential(conv, m.features.norm0, nn.ReLU(inplace=True))\n",
    "        self.layer1 = nn.Sequential(\n",
    "            nn.MaxPool2d(kernel_size=3, stride=2, padding=1, dilation=1, ceil_mode=False),\n",
    "            m.features.denseblock1)\n",
    "        self.layer2 = nn.Sequential(m.features.transition1, m.features.denseblock2)\n",
    "        self.layer3 = nn.Sequential(m.features.transition2, m.features.denseblock3)\n",
    "        self.layer4 = nn.Sequential(m.features.transition3, m.features.denseblock4,\n",
    "                                    m.features.norm5)\n",
    "        nc = self.layer4[-1].weight.shape[0]\n",
    "        self.body = nn.Sequential(self.layer0, self.layer1, self.layer2, self.layer3, self.layer4)\n",
    "        self.heads = nn.ModuleList([Head(nc, c) for c in n])\n",
    "        \n",
    "    def forward(self, x):\n",
    "        x = self.body(x)\n",
    "        return [f(x) for f in self.heads]"
   ]
  },
  {
   "cell_type": "code",
   "execution_count": 0,
   "metadata": {
    "colab": {},
    "colab_type": "code",
    "id": "KNmAmE4XKvnW"
   },
   "outputs": [],
   "source": [
    "class OHEM(Module):\n",
    "    def __init__(self, top_k=0.7, weights=[0.7, 0.1, 0.2]):\n",
    "        super(OHEM, self).__init__()\n",
    "        self.loss = F.cross_entropy\n",
    "        self.top_k = top_k\n",
    "        self.weights = weights\n",
    "    \n",
    "    def forward(self, input, target, cb_reduction='mean', index=None):\n",
    "        y,loss = target.long(),0\n",
    "        \n",
    "        for idx, row in enumerate(input):\n",
    "            gt = y[:, idx]\n",
    "            loss += self.weights[idx] * self.loss(row, gt, reduction='none', ignore_index=-1)\n",
    "\n",
    "        if self.top_k == 1: valid_loss = loss\n",
    "\n",
    "        self.index = torch.topk(loss, int(self.top_k * loss.size()[0])) if index is None else index\n",
    "        valid_loss = loss[self.index[1]]\n",
    "\n",
    "        return valid_loss.mean() if cb_reduction == 'mean' else valid_loss"
   ]
  },
  {
   "cell_type": "markdown",
   "metadata": {
    "colab_type": "text",
    "id": "zWtA96aKm0XN"
   },
   "source": [
    "# Metrics, callbacks, useful scripts "
   ]
  },
  {
   "cell_type": "code",
   "execution_count": 0,
   "metadata": {
    "colab": {},
    "colab_type": "code",
    "id": "G8P8YbjVZy8E"
   },
   "outputs": [],
   "source": [
    "class RecallPartial(Metric):\n",
    "    # based on AccumMetric\n",
    "    \"Stores predictions and targets on CPU in accumulate to perform final calculations with `func`.\"\n",
    "    def __init__(self, a=0, **kwargs):\n",
    "        self.func = partial(recall_score, average='macro', zero_division=0)\n",
    "        self.a = a\n",
    "\n",
    "    def reset(self): self.targs,self.preds = tensor([]), tensor([])\n",
    "\n",
    "    def accumulate(self, learn):\n",
    "        fp,sp,tp = learn.pred\n",
    "        preds,targs = torch.stack((fp.argmax(-1),sp.argmax(-1),tp.argmax(-1)), dim=-1).float(),learn.y\n",
    "        preds,targs = to_detach(preds),to_detach(targs)\n",
    "        self.preds = torch.cat((self.preds, preds))\n",
    "        self.targs = torch.cat((self.targs, targs))\n",
    "\n",
    "    @property\n",
    "    def value(self):\n",
    "        if len(self.preds) == 0: return\n",
    "        return self.func(self.targs[:, self.a], self.preds[:, self.a])\n",
    "\n",
    "    @property\n",
    "    def name(self): return df.columns[self.a+1]\n",
    "    \n",
    "class RecallCombine(Metric):\n",
    "    def accumulate(self, learn):\n",
    "        scores = [learn.metrics[i].value for i in range(3)]\n",
    "        self.combine = np.average(scores, weights=[7,1,2])\n",
    "\n",
    "    @property\n",
    "    def value(self):\n",
    "        return self.combine"
   ]
  },
  {
   "cell_type": "code",
   "execution_count": 0,
   "metadata": {
    "colab": {},
    "colab_type": "code",
    "id": "nBP4D2NAdel_"
   },
   "outputs": [],
   "source": [
    "class MyTrackCallback(Callback):\n",
    "    run_after,run_valid = [Normalize],False\n",
    "    def __init__(self, augs, probs): self.augs,self.probs = augs,probs    \n",
    "        \n",
    "    def aug_tracker(self, augs, probs): return augs[int(np.random.choice(len(augs), 1, p=probs))]\n",
    "    \n",
    "    def begin_batch(self): self.learn.condition = self.aug_tracker(self.augs, self.probs)"
   ]
  },
  {
   "cell_type": "code",
   "execution_count": 0,
   "metadata": {
    "colab": {},
    "colab_type": "code",
    "id": "ZIAn9oNAdfDL"
   },
   "outputs": [],
   "source": [
    "from torch.distributions.beta import Beta\n",
    "def NoLoss(*o): pass\n",
    "class CustomMixUp(Callback):\n",
    "    run_after,run_valid = MyTrackCallback,False\n",
    "    def __init__(self, alpha=0.4): self.distrib = Beta(tensor(alpha), tensor(alpha))\n",
    "        \n",
    "    def begin_fit(self):self.loss_func0 = self.learn.loss_func\n",
    "        \n",
    "    def begin_batch(self):\n",
    "        if self.learn.condition != self.__class__.__name__: return\n",
    "        self.dls.after_batch.fs[-1].p,self.dls.after_batch.fs[-2].p = 0.,0.\n",
    "        self.learn.loss_func = NoLoss\n",
    "        lam = self.distrib.sample((self.y[:, 0].size(0),)).squeeze().to(self.x[0].device)\n",
    "        lam = torch.stack([lam, 1-lam], 1)\n",
    "        self.lam = lam.max(1)[0]\n",
    "        shuffle = torch.randperm(self.y[:, 0].size(0)).to(self.x.device)\n",
    "        xb1 = tuple(L(self.xb).itemgot(shuffle))\n",
    "        yb1 = tuple([self.yb[i][shuffle] for i in range(len(self.yb))])\n",
    "        nx_dims = len(self.x.size())\n",
    "        self.learn.xb = tuple(L(xb1,self.xb).map_zip(torch.lerp,weight=unsqueeze(self.lam, n=nx_dims-1)))\n",
    "        self.learn.yb = yb1,self.yb\n",
    "        \n",
    "    def after_loss(self):\n",
    "        if self.learn.condition != self.__class__.__name__: return\n",
    "        loss0 = self.loss_func0(self.learn.pred, *self.learn.yb[0], cb_reduction='none')\n",
    "        loss1 = self.loss_func0(self.learn.pred, *self.learn.yb[1], cb_reduction='none', index=self.loss_func0.index)\n",
    "        # loss1 = self.loss_func0(self.learn.pred, *self.learn.yb[1], cb_reduction='none')\n",
    "        self.learn.loss = torch.lerp(loss0, loss1, self.lam[self.loss_func0.index[1]]).mean()\n",
    "        # self.learn.loss = torch.lerp(loss0, loss1, self.lam).mean()\n",
    "        self.learn.loss_func = self.loss_func0"
   ]
  },
  {
   "cell_type": "code",
   "execution_count": 0,
   "metadata": {
    "colab": {},
    "colab_type": "code",
    "id": "-QqS0ypRSy6d"
   },
   "outputs": [],
   "source": [
    "def rand_bbox(size, lam):\n",
    "    W = size[2]\n",
    "    H = size[3]\n",
    "    cut_rat = np.sqrt(1. - lam)\n",
    "    cut_w = np.int(W * cut_rat)\n",
    "    cut_h = np.int(H * cut_rat)\n",
    "\n",
    "    # uniform\n",
    "    cx = np.random.randint(W)\n",
    "    cy = np.random.randint(H)\n",
    "\n",
    "    bbx1 = np.clip(cx - cut_w // 2, 0, W)\n",
    "    bby1 = np.clip(cy - cut_h // 2, 0, H)\n",
    "    bbx2 = np.clip(cx + cut_w // 2, 0, W)\n",
    "    bby2 = np.clip(cy + cut_h // 2, 0, H)\n",
    "    return bbx1,bby1,bbx2,bby2"
   ]
  },
  {
   "cell_type": "code",
   "execution_count": 0,
   "metadata": {
    "colab": {},
    "colab_type": "code",
    "id": "5nkv3AynTEWU"
   },
   "outputs": [],
   "source": [
    "class CutMix(Callback):\n",
    "    run_after,run_valid = MyTrackCallback,False\n",
    "    def __init__(self, alpha=1., stack_y=True): self.alpha,self.stack_y = alpha,stack_y\n",
    "\n",
    "    def begin_fit(self): self.loss_func0 = self.learn.loss_func\n",
    "\n",
    "    def begin_batch(self):\n",
    "        if self.learn.condition != self.__class__.__name__: return\n",
    "        self.dls.after_batch.fs[-1].p,self.dls.after_batch.fs[-2].p = 0.,0.\n",
    "        self.learn.loss_func = NoLoss\n",
    "        lam = np.random.beta(self.alpha, self.alpha)\n",
    "        shuffle = torch.randperm(self.y[:, 0].size(0)).to(self.x.device)\n",
    "        yb1 = TensorCategory(*[self.yb[i][shuffle] for i in range(len(self.yb))])\n",
    "        last_input_size = self.x.shape\n",
    "        bbx1, bby1, bbx2, bby2 = rand_bbox(last_input_size, lam)\n",
    "        new_input = self.x.clone()\n",
    "        new_input[:, ..., bby1:bby2, bbx1:bbx2] = self.x[shuffle, ..., bby1:bby2, bbx1:bbx2]\n",
    "        self.learn.xb = tuple([new_input])\n",
    "        lam = self.x.new([lam])\n",
    "        if self.stack_y:\n",
    "            lam = 1 - ((bbx2 - bbx1) * (bby2 - bby1) / (last_input_size[-1] * last_input_size[-2]))\n",
    "            lam = self.x.new([lam])\n",
    "            self.learn.yb = tuple([torch.cat([self.y.float(), yb1.float(), lam.repeat(last_input_size[0]).unsqueeze(1).float()], 1)])\n",
    "        else:\n",
    "            if len(learn.y.shape) == 2:\n",
    "                lam = lam.unsqueeze(1).float()\n",
    "            self.learn.yb = tuple([self.yb.float() * lam + yb1.float() * (1-lam)])\n",
    "\n",
    "\n",
    "    def after_loss(self):\n",
    "        if self.learn.condition != self.__class__.__name__: return\n",
    "        self.learn.loss = self.loss_func0(self.learn.pred, *self.learn.yb, cb_reduction='mean')\n",
    "        self.learn.loss_func = self.loss_func0"
   ]
  },
  {
   "cell_type": "code",
   "execution_count": 0,
   "metadata": {
    "colab": {},
    "colab_type": "code",
    "id": "tuYRYm2wCz7P"
   },
   "outputs": [],
   "source": [
    "class EraseCallback(Callback):\n",
    "    run_after,run_valid = CustomMixUp,False\n",
    "\n",
    "    def begin_fit(self): self.loss_func0 = self.learn.loss_func\n",
    "\n",
    "    def begin_batch(self):\n",
    "      self.mu,self.gm,self.cutout = self.learn.condition == 'CustomMixUp',self.learn.condition == 'GridMask',self.learn.condition == 'Cutout'\n",
    "      if self.mu: return\n",
    "      self.learn.loss_func = NoLoss\n",
    "    \n",
    "    # def after_batch(self):\n",
    "      if self.gm: \n",
    "        self.dls.after_batch.fs[-2].p=0.\n",
    "        self.dls.after_batch.fs[-1].p=0.8\n",
    "      elif self.cutout: \n",
    "        self.dls.after_batch.fs[-1].p=0.\n",
    "        self.dls.after_batch.fs[-2].p=0.8\n",
    "\n",
    "    def after_loss(self):\n",
    "      if self.mu: return\n",
    "      self.learn.loss = self.loss_func0(self.learn.pred, *self.learn.yb, cb_reduction='mean')\n",
    "      self.learn.loss_func = self.loss_func0"
   ]
  },
  {
   "cell_type": "code",
   "execution_count": 0,
   "metadata": {
    "colab": {},
    "colab_type": "code",
    "id": "j8t7FP9aNatk"
   },
   "outputs": [],
   "source": [
    "def show(img, i=0): return TensorImage(img[i,...]).show()"
   ]
  },
  {
   "cell_type": "code",
   "execution_count": 0,
   "metadata": {
    "colab": {},
    "colab_type": "code",
    "id": "Se1IzKgeDcrh"
   },
   "outputs": [],
   "source": [
    "al,probs = ['Cutout', 'GridMask', 'CustomMixUp', 'CutMix'],[0.1, 0.1, 0.5, 0.3]"
   ]
  },
  {
   "cell_type": "markdown",
   "metadata": {
    "colab_type": "text",
    "id": "Ex0xYuV4mvlQ"
   },
   "source": [
    "# Training loop"
   ]
  },
  {
   "cell_type": "code",
   "execution_count": 38,
   "metadata": {
    "colab": {
     "base_uri": "https://localhost:8080/",
     "height": 82,
     "referenced_widgets": [
      "840dbdb80b984493b3291fb98f0feb4b",
      "d32f962436094266b88be50098cfbde1",
      "5c6efc705e264e6c9594b9bef97266bc",
      "008fa85968d349bba7f42110d17b4d5a",
      "631f0431822d45399438f2a4f52f8538",
      "0bfb0f44e9684ca5ba86a10b0418175d",
      "ab3e0a98adf349a0a761de9bd5bf8e4d",
      "8ff2be9f3b314e7da5f69ef3534c78d0"
     ]
    },
    "colab_type": "code",
    "executionInfo": {
     "elapsed": 404717,
     "status": "ok",
     "timestamp": 1585854868190,
     "user": {
      "displayName": "Russell Ershov",
      "photoUrl": "https://lh3.googleusercontent.com/a-/AOh14GizgYgSugYoFH3VKGt9lH8L9J1fk40_5RUiNb2SIA=s64",
      "userId": "14595990508036916203"
     },
     "user_tz": -180
    },
    "id": "-HMzBsdyldW3",
    "outputId": "f2eeec00-8b98-4fab-df2c-45e32271e76c"
   },
   "outputs": [
    {
     "name": "stderr",
     "output_type": "stream",
     "text": [
      "Downloading: \"https://s3.amazonaws.com/fast-ai-modelzoo/xrn50_940.pth\" to /root/.cache/torch/checkpoints/xrn50_940.pth\n"
     ]
    },
    {
     "data": {
      "application/vnd.jupyter.widget-view+json": {
       "model_id": "840dbdb80b984493b3291fb98f0feb4b",
       "version_major": 2,
       "version_minor": 0
      },
      "text/plain": [
       "HBox(children=(IntProgress(value=0, max=256198016), HTML(value='')))"
      ]
     },
     "metadata": {
      "tags": []
     },
     "output_type": "display_data"
    },
    {
     "name": "stdout",
     "output_type": "stream",
     "text": [
      "\n"
     ]
    }
   ],
   "source": [
    "model = CascadeModel()\n",
    "# model = CascadeDnet()"
   ]
  },
  {
   "cell_type": "code",
   "execution_count": 0,
   "metadata": {
    "colab": {},
    "colab_type": "code",
    "id": "Gp1WCMJMZyzA"
   },
   "outputs": [],
   "source": [
    "learn = Learner(dbch, model, loss_func=OHEM(), \n",
    "               cbs=[MyTrackCallback(al, probs), CustomMixUp(), CutMix(), EraseCallback()],\n",
    "               metrics=[RecallPartial(a=i) for i in range(len(dbch.c))] + [RecallCombine()],\n",
    "               splitter=lambda m: [list(m.body.parameters()), list(m.heads.parameters())],\n",
    "                model_dir=DRIVE/'models')"
   ]
  },
  {
   "cell_type": "code",
   "execution_count": 40,
   "metadata": {
    "colab": {
     "base_uri": "https://localhost:8080/",
     "height": 0
    },
    "colab_type": "code",
    "executionInfo": {
     "elapsed": 404716,
     "status": "ok",
     "timestamp": 1585854868193,
     "user": {
      "displayName": "Russell Ershov",
      "photoUrl": "https://lh3.googleusercontent.com/a-/AOh14GizgYgSugYoFH3VKGt9lH8L9J1fk40_5RUiNb2SIA=s64",
      "userId": "14595990508036916203"
     },
     "user_tz": -180
    },
    "id": "ya1nbJdrvQb5",
    "outputId": "8c972e89-b4f9-4e19-a4c9-714b234316c0"
   },
   "outputs": [
    {
     "data": {
      "text/plain": [
       "<fastai2.learner.Learner at 0x7fb1ce6084a8>"
      ]
     },
     "execution_count": 40,
     "metadata": {
      "tags": []
     },
     "output_type": "execute_result"
    }
   ],
   "source": [
    "learn.to_fp16()"
   ]
  },
  {
   "cell_type": "code",
   "execution_count": 0,
   "metadata": {
    "colab": {},
    "colab_type": "code",
    "id": "Uep0VbW8nxBe"
   },
   "outputs": [],
   "source": [
    "learn.load(DRIVE/'models/augs_xresnet50_0')"
   ]
  },
  {
   "cell_type": "code",
   "execution_count": 0,
   "metadata": {
    "colab": {},
    "colab_type": "code",
    "id": "TGy4K7ezR_s0"
   },
   "outputs": [],
   "source": [
    "# learn.recorder.lr_find()"
   ]
  },
  {
   "cell_type": "code",
   "execution_count": 0,
   "metadata": {
    "colab": {
     "base_uri": "https://localhost:8080/",
     "height": 94
    },
    "colab_type": "code",
    "executionInfo": {
     "elapsed": 22508883,
     "status": "ok",
     "timestamp": 1582259492740,
     "user": {
      "displayName": "Russell Ershov",
      "photoUrl": "https://lh3.googleusercontent.com/a-/AAuE7mBih22PyG1U4_NVbmWD0scngouRzw3axbZPhuuYWw=s64",
      "userId": "14595990508036916203"
     },
     "user_tz": -180
    },
    "id": "IU0PoKc1ZyrB",
    "outputId": "a8c07b87-cc3a-40c0-fc52-074376156664"
   },
   "outputs": [
    {
     "data": {
      "text/html": [
       "\n",
       "    <div>\n",
       "        <style>\n",
       "            /* Turns off some styling */\n",
       "            progress {\n",
       "                /* gets rid of default border in Firefox and Opera. */\n",
       "                border: none;\n",
       "                /* Needs to be in here for Safari polyfill so background images work as expected. */\n",
       "                background-size: auto;\n",
       "            }\n",
       "            .progress-bar-interrupted, .progress-bar-interrupted::-webkit-progress-bar {\n",
       "                background: #F44336;\n",
       "            }\n",
       "        </style>\n",
       "      <progress value='0' class='' max='50', style='width:300px; height:20px; vertical-align: middle;'></progress>\n",
       "      0.00% [0/50 00:00<00:00]\n",
       "    </div>\n",
       "    \n",
       "<table border=\"1\" class=\"dataframe\">\n",
       "  <thead>\n",
       "    <tr style=\"text-align: left;\">\n",
       "      <th>epoch</th>\n",
       "      <th>train_loss</th>\n",
       "      <th>valid_loss</th>\n",
       "      <th>grapheme_root</th>\n",
       "      <th>vowel_diacritic</th>\n",
       "      <th>consonant_diacritic</th>\n",
       "      <th>recall_combine</th>\n",
       "      <th>time</th>\n",
       "    </tr>\n",
       "  </thead>\n",
       "  <tbody>\n",
       "  </tbody>\n",
       "</table><p>\n",
       "\n",
       "    <div>\n",
       "        <style>\n",
       "            /* Turns off some styling */\n",
       "            progress {\n",
       "                /* gets rid of default border in Firefox and Opera. */\n",
       "                border: none;\n",
       "                /* Needs to be in here for Safari polyfill so background images work as expected. */\n",
       "                background-size: auto;\n",
       "            }\n",
       "            .progress-bar-interrupted, .progress-bar-interrupted::-webkit-progress-bar {\n",
       "                background: #F44336;\n",
       "            }\n",
       "        </style>\n",
       "      <progress value='88' class='' max='1256', style='width:300px; height:20px; vertical-align: middle;'></progress>\n",
       "      7.01% [88/1256 00:30<06:43 4.3853]\n",
       "    </div>\n",
       "    "
      ],
      "text/plain": [
       "<IPython.core.display.HTML object>"
      ]
     },
     "metadata": {
      "tags": []
     },
     "output_type": "display_data"
    }
   ],
   "source": [
    "learn.fit_one_cycle(50, slice(1e-3, 1e-2), cbs=[SaveModelCallback(fname=f'augs_xresnet50_{fold}'), ReduceLROnPlateau(patience=2)])"
   ]
  },
  {
   "cell_type": "code",
   "execution_count": 0,
   "metadata": {
    "colab": {},
    "colab_type": "code",
    "id": "RPGzSNnB3Nf7"
   },
   "outputs": [],
   "source": [
    "learn.recorder.values"
   ]
  },
  {
   "cell_type": "code",
   "execution_count": 0,
   "metadata": {
    "colab": {},
    "colab_type": "code",
    "id": "0RHWbQMGjswB"
   },
   "outputs": [],
   "source": [
    "v = learn.recorder.values[-3]\n",
    "rc = float(v[-1])\n",
    "val_loss = float(v[1])"
   ]
  },
  {
   "cell_type": "code",
   "execution_count": 0,
   "metadata": {
    "colab": {},
    "colab_type": "code",
    "id": "yxS-FxU6jGpf"
   },
   "outputs": [],
   "source": [
    "model_fn = f'{arch_name}_rc{rc:0.4f}_validloss{val_loss:0.4f}_fold{fold+1}_of_{nfolds}'\n",
    "model_fn"
   ]
  },
  {
   "cell_type": "code",
   "execution_count": 0,
   "metadata": {
    "colab": {},
    "colab_type": "code",
    "id": "MYtFDmx9ZyoS"
   },
   "outputs": [],
   "source": [
    "learn.save(DRIVE/f'models/{model_fn}')"
   ]
  },
  {
   "cell_type": "code",
   "execution_count": 0,
   "metadata": {
    "colab": {},
    "colab_type": "code",
    "id": "ib1TAGHTZylj"
   },
   "outputs": [],
   "source": [
    "learn.load(DRIVE/'models/xresnet50_rc0.9653_validloss0.3888_fold1_of_5')"
   ]
  },
  {
   "cell_type": "code",
   "execution_count": 0,
   "metadata": {
    "colab": {},
    "colab_type": "code",
    "id": "1yBw_GRyPMpQ"
   },
   "outputs": [],
   "source": [
    "learn.fit_one_cycle(14, slice(1e-3), cbs=[SaveModelCallback(monitor='recall_combine', fname=f'model_{fold}'), ReduceLROnPlateau(patience=2)])"
   ]
  },
  {
   "cell_type": "code",
   "execution_count": 0,
   "metadata": {
    "colab": {},
    "colab_type": "code",
    "id": "xkV1m8jXPMme"
   },
   "outputs": [],
   "source": []
  }
 ],
 "metadata": {
  "accelerator": "GPU",
  "colab": {
   "collapsed_sections": [],
   "name": "Graphemes_fullaugs_fastai2.ipynb",
   "provenance": []
  },
  "kernelspec": {
   "display_name": "Python 3",
   "language": "python",
   "name": "python3"
  },
  "widgets": {
   "application/vnd.jupyter.widget-state+json": {
    "008fa85968d349bba7f42110d17b4d5a": {
     "model_module": "@jupyter-widgets/controls",
     "model_name": "HTMLModel",
     "state": {
      "_dom_classes": [],
      "_model_module": "@jupyter-widgets/controls",
      "_model_module_version": "1.5.0",
      "_model_name": "HTMLModel",
      "_view_count": null,
      "_view_module": "@jupyter-widgets/controls",
      "_view_module_version": "1.5.0",
      "_view_name": "HTMLView",
      "description": "",
      "description_tooltip": null,
      "layout": "IPY_MODEL_8ff2be9f3b314e7da5f69ef3534c78d0",
      "placeholder": "​",
      "style": "IPY_MODEL_ab3e0a98adf349a0a761de9bd5bf8e4d",
      "value": " 244M/244M [00:17&lt;00:00, 15.0MB/s]"
     }
    },
    "0bfb0f44e9684ca5ba86a10b0418175d": {
     "model_module": "@jupyter-widgets/base",
     "model_name": "LayoutModel",
     "state": {
      "_model_module": "@jupyter-widgets/base",
      "_model_module_version": "1.2.0",
      "_model_name": "LayoutModel",
      "_view_count": null,
      "_view_module": "@jupyter-widgets/base",
      "_view_module_version": "1.2.0",
      "_view_name": "LayoutView",
      "align_content": null,
      "align_items": null,
      "align_self": null,
      "border": null,
      "bottom": null,
      "display": null,
      "flex": null,
      "flex_flow": null,
      "grid_area": null,
      "grid_auto_columns": null,
      "grid_auto_flow": null,
      "grid_auto_rows": null,
      "grid_column": null,
      "grid_gap": null,
      "grid_row": null,
      "grid_template_areas": null,
      "grid_template_columns": null,
      "grid_template_rows": null,
      "height": null,
      "justify_content": null,
      "justify_items": null,
      "left": null,
      "margin": null,
      "max_height": null,
      "max_width": null,
      "min_height": null,
      "min_width": null,
      "object_fit": null,
      "object_position": null,
      "order": null,
      "overflow": null,
      "overflow_x": null,
      "overflow_y": null,
      "padding": null,
      "right": null,
      "top": null,
      "visibility": null,
      "width": null
     }
    },
    "5c6efc705e264e6c9594b9bef97266bc": {
     "model_module": "@jupyter-widgets/controls",
     "model_name": "IntProgressModel",
     "state": {
      "_dom_classes": [],
      "_model_module": "@jupyter-widgets/controls",
      "_model_module_version": "1.5.0",
      "_model_name": "IntProgressModel",
      "_view_count": null,
      "_view_module": "@jupyter-widgets/controls",
      "_view_module_version": "1.5.0",
      "_view_name": "ProgressView",
      "bar_style": "success",
      "description": "100%",
      "description_tooltip": null,
      "layout": "IPY_MODEL_0bfb0f44e9684ca5ba86a10b0418175d",
      "max": 256198016,
      "min": 0,
      "orientation": "horizontal",
      "style": "IPY_MODEL_631f0431822d45399438f2a4f52f8538",
      "value": 256198016
     }
    },
    "631f0431822d45399438f2a4f52f8538": {
     "model_module": "@jupyter-widgets/controls",
     "model_name": "ProgressStyleModel",
     "state": {
      "_model_module": "@jupyter-widgets/controls",
      "_model_module_version": "1.5.0",
      "_model_name": "ProgressStyleModel",
      "_view_count": null,
      "_view_module": "@jupyter-widgets/base",
      "_view_module_version": "1.2.0",
      "_view_name": "StyleView",
      "bar_color": null,
      "description_width": "initial"
     }
    },
    "840dbdb80b984493b3291fb98f0feb4b": {
     "model_module": "@jupyter-widgets/controls",
     "model_name": "HBoxModel",
     "state": {
      "_dom_classes": [],
      "_model_module": "@jupyter-widgets/controls",
      "_model_module_version": "1.5.0",
      "_model_name": "HBoxModel",
      "_view_count": null,
      "_view_module": "@jupyter-widgets/controls",
      "_view_module_version": "1.5.0",
      "_view_name": "HBoxView",
      "box_style": "",
      "children": [
       "IPY_MODEL_5c6efc705e264e6c9594b9bef97266bc",
       "IPY_MODEL_008fa85968d349bba7f42110d17b4d5a"
      ],
      "layout": "IPY_MODEL_d32f962436094266b88be50098cfbde1"
     }
    },
    "8ff2be9f3b314e7da5f69ef3534c78d0": {
     "model_module": "@jupyter-widgets/base",
     "model_name": "LayoutModel",
     "state": {
      "_model_module": "@jupyter-widgets/base",
      "_model_module_version": "1.2.0",
      "_model_name": "LayoutModel",
      "_view_count": null,
      "_view_module": "@jupyter-widgets/base",
      "_view_module_version": "1.2.0",
      "_view_name": "LayoutView",
      "align_content": null,
      "align_items": null,
      "align_self": null,
      "border": null,
      "bottom": null,
      "display": null,
      "flex": null,
      "flex_flow": null,
      "grid_area": null,
      "grid_auto_columns": null,
      "grid_auto_flow": null,
      "grid_auto_rows": null,
      "grid_column": null,
      "grid_gap": null,
      "grid_row": null,
      "grid_template_areas": null,
      "grid_template_columns": null,
      "grid_template_rows": null,
      "height": null,
      "justify_content": null,
      "justify_items": null,
      "left": null,
      "margin": null,
      "max_height": null,
      "max_width": null,
      "min_height": null,
      "min_width": null,
      "object_fit": null,
      "object_position": null,
      "order": null,
      "overflow": null,
      "overflow_x": null,
      "overflow_y": null,
      "padding": null,
      "right": null,
      "top": null,
      "visibility": null,
      "width": null
     }
    },
    "ab3e0a98adf349a0a761de9bd5bf8e4d": {
     "model_module": "@jupyter-widgets/controls",
     "model_name": "DescriptionStyleModel",
     "state": {
      "_model_module": "@jupyter-widgets/controls",
      "_model_module_version": "1.5.0",
      "_model_name": "DescriptionStyleModel",
      "_view_count": null,
      "_view_module": "@jupyter-widgets/base",
      "_view_module_version": "1.2.0",
      "_view_name": "StyleView",
      "description_width": ""
     }
    },
    "d32f962436094266b88be50098cfbde1": {
     "model_module": "@jupyter-widgets/base",
     "model_name": "LayoutModel",
     "state": {
      "_model_module": "@jupyter-widgets/base",
      "_model_module_version": "1.2.0",
      "_model_name": "LayoutModel",
      "_view_count": null,
      "_view_module": "@jupyter-widgets/base",
      "_view_module_version": "1.2.0",
      "_view_name": "LayoutView",
      "align_content": null,
      "align_items": null,
      "align_self": null,
      "border": null,
      "bottom": null,
      "display": null,
      "flex": null,
      "flex_flow": null,
      "grid_area": null,
      "grid_auto_columns": null,
      "grid_auto_flow": null,
      "grid_auto_rows": null,
      "grid_column": null,
      "grid_gap": null,
      "grid_row": null,
      "grid_template_areas": null,
      "grid_template_columns": null,
      "grid_template_rows": null,
      "height": null,
      "justify_content": null,
      "justify_items": null,
      "left": null,
      "margin": null,
      "max_height": null,
      "max_width": null,
      "min_height": null,
      "min_width": null,
      "object_fit": null,
      "object_position": null,
      "order": null,
      "overflow": null,
      "overflow_x": null,
      "overflow_y": null,
      "padding": null,
      "right": null,
      "top": null,
      "visibility": null,
      "width": null
     }
    }
   }
  }
 },
 "nbformat": 4,
 "nbformat_minor": 1
}
